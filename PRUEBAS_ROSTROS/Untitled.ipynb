{
 "cells": [
  {
   "cell_type": "code",
   "execution_count": 3,
   "metadata": {},
   "outputs": [
    {
     "ename": "NameError",
     "evalue": "name 'imagesName' is not defined",
     "output_type": "error",
     "traceback": [
      "\u001b[1;31m---------------------------------------------------------------------------\u001b[0m",
      "\u001b[1;31mNameError\u001b[0m                                 Traceback (most recent call last)",
      "\u001b[1;32m<ipython-input-3-400d4d29e387>\u001b[0m in \u001b[0;36m<module>\u001b[1;34m\u001b[0m\n\u001b[0;32m     13\u001b[0m \u001b[0mcount\u001b[0m \u001b[1;33m=\u001b[0m \u001b[1;36m0\u001b[0m\u001b[1;33m\u001b[0m\u001b[1;33m\u001b[0m\u001b[0m\n\u001b[0;32m     14\u001b[0m \u001b[1;32mfor\u001b[0m \u001b[0mimageName\u001b[0m \u001b[1;32min\u001b[0m \u001b[0mimagesPathList\u001b[0m\u001b[1;33m:\u001b[0m\u001b[1;33m\u001b[0m\u001b[1;33m\u001b[0m\u001b[0m\n\u001b[1;32m---> 15\u001b[1;33m         \u001b[0mimage\u001b[0m \u001b[1;33m=\u001b[0m \u001b[0mcv2\u001b[0m\u001b[1;33m.\u001b[0m\u001b[0mimread\u001b[0m\u001b[1;33m(\u001b[0m\u001b[0mimagesPath\u001b[0m\u001b[1;33m+\u001b[0m\u001b[1;34m'\\\\'\u001b[0m\u001b[1;33m+\u001b[0m\u001b[0mimagesName\u001b[0m\u001b[1;33m)\u001b[0m\u001b[1;31m### colocar el nombre de la imagen\u001b[0m\u001b[1;33m\u001b[0m\u001b[1;33m\u001b[0m\u001b[0m\n\u001b[0m\u001b[0;32m     16\u001b[0m         \u001b[0mimageAux\u001b[0m \u001b[1;33m=\u001b[0m \u001b[0mimage\u001b[0m\u001b[1;33m\u001b[0m\u001b[1;33m\u001b[0m\u001b[0m\n\u001b[0;32m     17\u001b[0m         \u001b[0mgray\u001b[0m \u001b[1;33m=\u001b[0m \u001b[0mcv2\u001b[0m\u001b[1;33m.\u001b[0m\u001b[0mcvtColor\u001b[0m\u001b[1;33m(\u001b[0m\u001b[0mimage\u001b[0m\u001b[1;33m,\u001b[0m \u001b[0mcv2\u001b[0m\u001b[1;33m.\u001b[0m\u001b[0mCOLOR_BGR2GRAY\u001b[0m\u001b[1;33m)\u001b[0m\u001b[1;33m\u001b[0m\u001b[1;33m\u001b[0m\u001b[0m\n",
      "\u001b[1;31mNameError\u001b[0m: name 'imagesName' is not defined"
     ]
    }
   ],
   "source": [
    "import cv2\n",
    "import os\n",
    "\n",
    "imagesPath = \"C:\\\\Users\\\\Admin\\\\Desktop\\\\Proyecto OpenCV\\\\PRUEBAS_ROSTROS\" # Cambia a la ruta donde hayas almacenado la carpeta con las imágenes\n",
    "imagesPathList = os.listdir(imagesPath)\n",
    "\n",
    "if not os.path.exists('Rostros encontrados'):\n",
    "\tprint('Carpeta creada: Rostros encontrados')\n",
    "\tos.makedirs('Rostros encontrados')\n",
    "\n",
    "faceClassif = cv2.CascadeClassifier(cv2.data.haarcascades+'haarcascade_frontalface_default.xml')\n",
    "\n",
    "count = 0\n",
    "for imageName in imagesPathList:\n",
    "\timage = cv2.imread(imagesPath+'\\\\'+imageName)### colocar el nombre de la imagen\n",
    "\timageAux = image\n",
    "\tgray = cv2.cvtColor(image, cv2.COLOR_BGR2GRAY)\n",
    "\t\n",
    "\tfaces = faceClassif.detectMultiScale(gray, 1.1, 5)\n",
    "\n",
    "\tfor (x,y,w,h) in faces:\n",
    "\t\tcv2.rectangle(image, (x,y),(x+w,y+h),(128,0,255),2)\n",
    "\tcv2.rectangle(image,(10,5),(450,25),(255,255,255),-1)\n",
    "\tcv2.putText(image,'Presione s, para almacenar los rostros encontrados',(10,20), 2, 0.5,(128,0,255),1,cv2.LINE_AA)\n",
    "\tcv2.imshow('image',image)\n",
    "\tk = cv2.waitKey(0)\n",
    "\tif  k == ord('s'):\n",
    "\t\tfor (x,y,w,h) in faces:\n",
    "\t\t\trostro = imageAux[y:y+h,x:x+w]\n",
    "\t\t\trostro = cv2.resize(rostro,(150,150), interpolation=cv2.INTER_CUBIC)\n",
    "\t\t\t#cv2.imshow('rostro',rostro)\n",
    "\t\t\t#cv2.waitKey(0)\n",
    "\t\t\tcv2.imwrite('Rostros encontrados/rostro_{}.jpg'.format(count),rostro)\n",
    "\t\t\tcount = count +1\n",
    "\telif k == 27:\n",
    "\t\tbreak\n",
    "\n",
    "cv2.destroyAllWindows()"
   ]
  },
  {
   "cell_type": "code",
   "execution_count": 10,
   "metadata": {},
   "outputs": [
    {
     "data": {
      "text/plain": [
       "'C:\\\\Users\\\\Admin\\\\Desktop\\\\Proyecto OpenCV\\\\PRUEBAS_ROSTROS'"
      ]
     },
     "execution_count": 10,
     "metadata": {},
     "output_type": "execute_result"
    }
   ],
   "source": []
  }
 ],
 "metadata": {
  "kernelspec": {
   "display_name": "Python 3",
   "language": "python",
   "name": "python3"
  },
  "language_info": {
   "codemirror_mode": {
    "name": "ipython",
    "version": 3
   },
   "file_extension": ".py",
   "mimetype": "text/x-python",
   "name": "python",
   "nbconvert_exporter": "python",
   "pygments_lexer": "ipython3",
   "version": "3.8.3"
  }
 },
 "nbformat": 4,
 "nbformat_minor": 4
}
